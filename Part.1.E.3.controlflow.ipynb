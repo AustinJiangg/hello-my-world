for n in range(2, 100):
    if n == 2:
        print(n)
        continue
    for i in range(2, n):
        if (n % i) == 0:
            break
    else:
        print(n)


import random
r = random.randrange(1, 1000)

if r % 2 == 0:
    print(f'{f} is even.')


import random
r = random.randrange(1, 1000)

if r % 2 == 0:
    print(f'{r} is even')
else:
    print(f'{r} is odd')


import random
r = random.randrange(2, 13)

if r == 7:
    print('Draw!')
elif r < 7:
    print('Small!')
elif r > 7:
    print('Big!')


import random
r = randrange(0, 13)

if r == 7:
    print('Draw!')
elif r >= 2 and r < 7:
    print('Small!')
elif r > 7:
    print('Big!')
else:
    print('Not valid!')


for a in range(10):
    print(f'value of a: {a}')


range(10)
list(range(10))


list(range(1, 13))


for i in range(1, 10, 2):
    print(i)


list(range(0, -10, -1))


for n in range(2, 100):
    if n == 2:
        print(n)
        continue
    for i in range(2, n):
        if (n % i) == 0:
            break 
    else:
        print(n)