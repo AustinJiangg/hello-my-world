for c in 'Python'"
    print(c)


for i in range(10):
    print(i)


a_list = []
b_list = [1, 2, 3, 4]
list()
list(iterable)
[(expression with x) for x in iterable]


a_list = []
a_list.append(1)
a_list.append(2)
print(a_list, f'has a len of {len(a_lsit)}.')

b_list = list(range(1, 9))
a_list.append(11)
print(b_list, f'has a len of {len(b_list)}.')

[2**x, for x in range(9)]

import random
n = 10
a_list = [random.randrange(1, 100) for i in range(n)]
print(f'a_list comprehends {len(a_list)} random numbers: {a_list}')
b_list = [x for x in a_list if x % 2 == 0]
print(f'...and it has {len(b_list)} even numbers: {b_list}')

a_list = [1, 2, 3]
b_list = [4, 5, 6]
c_list = a_list + b_list * 3
c_list
7 not in c_list
a_list > b_list

import random
n = 3
a_list = [random.randrange(65, 91) for i in range(n)]
b_list = [chr(random.randrange(65, 91)) for i in range(n)]
print(a_list)
c_list = a_list + b_list + a_list * 2
print(c_list)

print(c_list[3])
print(c_list[:])
print(c_list[2:])
print(c_list[:5])
print(c_list[2:5])

del c_list[3]
del c_list[5:8]

c_list[1:5:2] = ['a', 2]


s = 'Python'
l = list(s)
print(s)
print(l)
del l[2:4]
pritn(l)


import random
n = 3
a_list = [random.randrange(65, 91) for i in range(n)]
b_list = [chr(random.randrange(65, 91)) for i in range(n)]
print(a_list)
pritn(b_list)
c_list = a_list + b_list + a_list * 2
print(c_list)
a_list *= 3
print(a_list)
print(len(c_list))
print(min(b_list))
print(max(b_list))
print(X not in c_list)


import random
n = 10
a_list = [random.randrange(1, 100) for i in range(n)]
print(f'a_list comprehends {len(a_list)} random numbers: \n', a_list)

a_list.sort()
print('the list sorted: \n', a_list)

a_list.sort(reverse=True)
print('the list sorted reversely:\n', a_list)

import random
n = 10
a_list = [chr(random.randrange(65, 91) for i in range(n)]
print(f'the list comprehends {len(a_list)} random string elements:\n', a_list)

a_list.sort()
print('the list sorted:\n', a_list)
a_list.sort(reverse=True)
print('the list sorted reversely:\n', a_list)

b_list = [chr(random.randrange(65, 91) + chr(random.randrange(97, 123) for i in range(n)]
print(f'b_list comprehends {len(b_list)} random string elements:\n', b_list)

b_list.sort()
print('b_list sorted:\n', b_list)
b_list.sort(key=str.lower, reverse=True)
print('b_list sorted reversely:\n', b_list)

a_list = [1, 'a', 'c']
a_list = a_list.sort # 报错

import random
n = 3
a_list = [random.randrange(65, 91) for i in range(n)]
b_list = [chr(random.randrange(65, 91)) for i in range(n)]
c_list = a_list + b_list + a_list * 2
print(a_list)
print(c_list)

c_list.append('100')
print(c_list)

print(a_list)
a_list.clear()
print(a_list)

d_list = c_list.copy()
print(d_list)
del d_list[6:8]
print(c_list)
print(d_list)

e_list = d_list
del e_list[6:8]
print(d_list)
print(e_list)

print(a_list)
a_list.extend(c_list)
print(a_list)

print(a_list)
a_list.insert(1, 'example')
a_list.insert(3, 'example')
print(a_list)

print(a_list)
a_list.reverse()
print(a_list)
x = a_list.reverse()
print(x)

import random
n = 3

a_list = [random.randrange(65, 91) for i in range(n)]
a_list.insert(1, 'example')

print(a_list)
a_list.remove('example')

print(a_list)
p = a_list.pop(2)
print(a_list)
print(p)

print()
a_list.insert(2, 'example')
a_list.insert(2, 'example')
del a_list[2]
print(a_list)

print()
print(a_list.remove('example'))
print(a_list)