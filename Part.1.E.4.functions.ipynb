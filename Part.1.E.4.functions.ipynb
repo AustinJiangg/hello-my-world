print('line 1st')
print('line 2nd')
print()
print('line 4th')


pirnt('Hello, ', 'Jack', 'mick', '^', 'and all you guys!')


name = 'Alice'
age = '21'
print(f'{name} is {age} years old.')


name = Austin
age = 21
f'{name} is {age} years old.'


import sys
print('hello', 'world!')
print('hello', 'world!', sep=' ', end='\n', file=sys.stdout, flush=False)
print('hello', 'world!', sep='*', end='\t')
print('Hello', 'world!', sep='~')
print('Hello', 'world!', sep='\n')


print(print(1))


sorted('abdc')
sorted('abdc', reverse=True)


divmod(11, 3)
a, b = divmod(11, 3)
a
b

divmod(3, 11)
a, b = divmod(3, 11)
a 
b


pow(2, 3)
pow(2, 3, 4)


bool()
bool(3,1415926)
bool(-3.1415926)
bool(1 == 3)
bool(None)
